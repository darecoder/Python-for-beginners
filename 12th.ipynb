{
 "cells": [
  {
   "cell_type": "code",
   "execution_count": 2,
   "metadata": {},
   "outputs": [],
   "source": [
    "training_data = \"Hello Hello World World Hello World\""
   ]
  },
  {
   "cell_type": "code",
   "execution_count": 1,
   "metadata": {},
   "outputs": [],
   "source": [
    "# Frequency Table \n",
    "# Input   output   n\n",
    "# Hel       l      1\n",
    "# lo_       W      2\n",
    "# lo_       H      1"
   ]
  },
  {
   "cell_type": "code",
   "execution_count": 8,
   "metadata": {},
   "outputs": [],
   "source": [
    "d = {\n",
    "    \"Hel\" : {\n",
    "        \"l\" : 3\n",
    "    },\n",
    "    \"lo \" : {\n",
    "        \"W\" : 2,\n",
    "        \"H\" : 1\n",
    "    }\n",
    "}"
   ]
  },
  {
   "cell_type": "code",
   "execution_count": 15,
   "metadata": {},
   "outputs": [],
   "source": [
    "def createTable(data, k=3):    #Hello\n",
    "    data = data.lower()\n",
    "    T= {}\n",
    "    for i in range(len(data) - k):     \n",
    "        X = data[i:i+k]           #ell\n",
    "        Y = data[i+k]             #o\n",
    "        if X in T :\n",
    "            if Y in T[X]:\n",
    "                T[X][Y] += 1\n",
    "            else: \n",
    "                T[X][Y] = 1\n",
    "        else:\n",
    "            T[X] = {\n",
    "                Y: 1\n",
    "            }\n",
    "    return T"
   ]
  },
  {
   "cell_type": "code",
   "execution_count": 16,
   "metadata": {},
   "outputs": [
    {
     "data": {
      "text/plain": [
       "{'hel': {'l': 3},\n",
       " 'ell': {'o': 3},\n",
       " 'llo': {' ': 3},\n",
       " 'lo ': {'h': 1, 'w': 2},\n",
       " 'o h': {'e': 1},\n",
       " ' he': {'l': 2},\n",
       " 'o w': {'o': 2},\n",
       " ' wo': {'r': 3},\n",
       " 'wor': {'l': 3},\n",
       " 'orl': {'d': 3},\n",
       " 'rld': {' ': 2},\n",
       " 'ld ': {'w': 1, 'h': 1},\n",
       " 'd w': {'o': 1},\n",
       " 'd h': {'e': 1}}"
      ]
     },
     "execution_count": 16,
     "metadata": {},
     "output_type": "execute_result"
    }
   ],
   "source": [
    "createTable(training_data)"
   ]
  },
  {
   "cell_type": "code",
   "execution_count": 25,
   "metadata": {},
   "outputs": [],
   "source": [
    "def convertToProb(T):\n",
    "    for X in T:\n",
    "        total = sum(T[X].values())\n",
    "        for Y in T[X]:\n",
    "            T[X][Y] /= total\n",
    "    return T\n",
    "        "
   ]
  },
  {
   "cell_type": "code",
   "execution_count": 26,
   "metadata": {},
   "outputs": [
    {
     "data": {
      "text/plain": [
       "{'hel': {'l': 1.0},\n",
       " 'ell': {'o': 1.0},\n",
       " 'llo': {' ': 1.0},\n",
       " 'lo ': {'h': 0.3333333333333333, 'w': 0.6666666666666666},\n",
       " 'o h': {'e': 1.0},\n",
       " ' he': {'l': 1.0},\n",
       " 'o w': {'o': 1.0},\n",
       " ' wo': {'r': 1.0},\n",
       " 'wor': {'l': 1.0},\n",
       " 'orl': {'d': 1.0},\n",
       " 'rld': {' ': 1.0},\n",
       " 'ld ': {'w': 0.5, 'h': 0.5},\n",
       " 'd w': {'o': 1.0},\n",
       " 'd h': {'e': 1.0}}"
      ]
     },
     "execution_count": 26,
     "metadata": {},
     "output_type": "execute_result"
    }
   ],
   "source": [
    "convertToProb(createTable(training_data))"
   ]
  },
  {
   "cell_type": "code",
   "execution_count": 27,
   "metadata": {},
   "outputs": [],
   "source": [
    "import numpy as np"
   ]
  },
  {
   "cell_type": "code",
   "execution_count": 28,
   "metadata": {},
   "outputs": [],
   "source": [
    "def sampleNext(T, inp, k):\n",
    "    inp = inp[-k:]\n",
    "    if inp in T:\n",
    "        prob_outcomes = T[inp]\n",
    "        choices = list(prob_outcomes.keys())\n",
    "        probabilities = list(prob_outcomes.values())\n",
    "        return np.random.choice(choices, p=probabilities)\n",
    "    else:\n",
    "        return \" \"\n",
    "    "
   ]
  },
  {
   "cell_type": "code",
   "execution_count": 29,
   "metadata": {},
   "outputs": [],
   "source": [
    "def generate(table, inp, length = 1000):\n",
    "    text = inp\n",
    "    for _ in range(length):\n",
    "        text += sampleNext(table, text)\n",
    "    return text"
   ]
  },
  {
   "cell_type": "code",
   "execution_count": 30,
   "metadata": {},
   "outputs": [
    {
     "ename": "NameError",
     "evalue": "name 'table' is not defined",
     "output_type": "error",
     "traceback": [
      "\u001b[1;31m---------------------------------------------------------------------------\u001b[0m",
      "\u001b[1;31mNameError\u001b[0m                                 Traceback (most recent call last)",
      "\u001b[1;32m<ipython-input-30-6476168a227d>\u001b[0m in \u001b[0;36m<module>\u001b[1;34m\u001b[0m\n\u001b[1;32m----> 1\u001b[1;33m \u001b[0mgenerate\u001b[0m\u001b[1;33m(\u001b[0m\u001b[0mtable\u001b[0m\u001b[1;33m,\u001b[0m \u001b[1;34m\"look\"\u001b[0m\u001b[1;33m)\u001b[0m\u001b[1;33m\u001b[0m\u001b[1;33m\u001b[0m\u001b[0m\n\u001b[0m",
      "\u001b[1;31mNameError\u001b[0m: name 'table' is not defined"
     ]
    }
   ],
   "source": [
    "generate(table, \"look\")"
   ]
  },
  {
   "cell_type": "code",
   "execution_count": null,
   "metadata": {},
   "outputs": [],
   "source": []
  }
 ],
 "metadata": {
  "kernelspec": {
   "display_name": "Python 3",
   "language": "python",
   "name": "python3"
  },
  "language_info": {
   "codemirror_mode": {
    "name": "ipython",
    "version": 3
   },
   "file_extension": ".py",
   "mimetype": "text/x-python",
   "name": "python",
   "nbconvert_exporter": "python",
   "pygments_lexer": "ipython3",
   "version": "3.7.1"
  }
 },
 "nbformat": 4,
 "nbformat_minor": 2
}

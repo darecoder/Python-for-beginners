{
 "cells": [
  {
   "cell_type": "code",
   "execution_count": 1,
   "metadata": {},
   "outputs": [
    {
     "name": "stdout",
     "output_type": "stream",
     "text": [
      "1.6666666666666667\n"
     ]
    }
   ],
   "source": [
    "print(5/3)  #Division"
   ]
  },
  {
   "cell_type": "code",
   "execution_count": 2,
   "metadata": {},
   "outputs": [
    {
     "name": "stdout",
     "output_type": "stream",
     "text": [
      "1\n"
     ]
    }
   ],
   "source": [
    "print(5//3)  #floor Division"
   ]
  },
  {
   "cell_type": "code",
   "execution_count": 3,
   "metadata": {},
   "outputs": [
    {
     "name": "stdout",
     "output_type": "stream",
     "text": [
      "6\n"
     ]
    }
   ],
   "source": [
    "print(3*2)  #multiplication"
   ]
  },
  {
   "cell_type": "code",
   "execution_count": 4,
   "metadata": {},
   "outputs": [
    {
     "name": "stdout",
     "output_type": "stream",
     "text": [
      "9\n"
     ]
    }
   ],
   "source": [
    "print(3**2)  #to the power of"
   ]
  },
  {
   "cell_type": "code",
   "execution_count": 7,
   "metadata": {},
   "outputs": [
    {
     "data": {
      "text/plain": [
       "4.199999999999999"
      ]
     },
     "execution_count": 7,
     "metadata": {},
     "output_type": "execute_result"
    }
   ],
   "source": [
    "1.4 + 1.2 + 1.6"
   ]
  },
  {
   "cell_type": "code",
   "execution_count": 8,
   "metadata": {},
   "outputs": [
    {
     "data": {
      "text/plain": [
       "4.2"
      ]
     },
     "execution_count": 8,
     "metadata": {},
     "output_type": "execute_result"
    }
   ],
   "source": [
    "1.4 + 1.6 + 1.2"
   ]
  },
  {
   "cell_type": "code",
   "execution_count": 10,
   "metadata": {},
   "outputs": [
    {
     "data": {
      "text/plain": [
       "2.6"
      ]
     },
     "execution_count": 10,
     "metadata": {},
     "output_type": "execute_result"
    }
   ],
   "source": [
    "round(1.4 +1.2,5)"
   ]
  },
  {
   "cell_type": "code",
   "execution_count": 11,
   "metadata": {},
   "outputs": [
    {
     "data": {
      "text/plain": [
       "True"
      ]
     },
     "execution_count": 11,
     "metadata": {},
     "output_type": "execute_result"
    }
   ],
   "source": [
    "\"abc\"<\"b\"   #lexicographically comparison"
   ]
  },
  {
   "cell_type": "code",
   "execution_count": 13,
   "metadata": {},
   "outputs": [
    {
     "name": "stdout",
     "output_type": "stream",
     "text": [
      "20\n"
     ]
    }
   ],
   "source": [
    "a=40\n",
    "a//=2  #assignment operator\n",
    "print(a)"
   ]
  },
  {
   "cell_type": "code",
   "execution_count": 14,
   "metadata": {},
   "outputs": [
    {
     "name": "stdout",
     "output_type": "stream",
     "text": [
      "65\n"
     ]
    }
   ],
   "source": [
    "print(ord(\"A\"))  #Gives ASCII Value"
   ]
  },
  {
   "cell_type": "code",
   "execution_count": 15,
   "metadata": {},
   "outputs": [
    {
     "name": "stdout",
     "output_type": "stream",
     "text": [
      "<class 'bool'>\n"
     ]
    },
    {
     "data": {
      "text/plain": [
       "True"
      ]
     },
     "execution_count": 15,
     "metadata": {},
     "output_type": "execute_result"
    }
   ],
   "source": [
    "a=False\n",
    "b=True\n",
    "print(type(a))\n",
    "isinstance(a,int)"
   ]
  },
  {
   "cell_type": "code",
   "execution_count": 16,
   "metadata": {},
   "outputs": [
    {
     "data": {
      "text/plain": [
       "False"
      ]
     },
     "execution_count": 16,
     "metadata": {},
     "output_type": "execute_result"
    }
   ],
   "source": [
    "True and False"
   ]
  },
  {
   "cell_type": "code",
   "execution_count": 17,
   "metadata": {},
   "outputs": [
    {
     "data": {
      "text/plain": [
       "0"
      ]
     },
     "execution_count": 17,
     "metadata": {},
     "output_type": "execute_result"
    }
   ],
   "source": [
    "1 and 0"
   ]
  },
  {
   "cell_type": "code",
   "execution_count": 18,
   "metadata": {},
   "outputs": [
    {
     "data": {
      "text/plain": [
       "8"
      ]
     },
     "execution_count": 18,
     "metadata": {},
     "output_type": "execute_result"
    }
   ],
   "source": [
    "5 and 8"
   ]
  },
  {
   "cell_type": "code",
   "execution_count": 19,
   "metadata": {},
   "outputs": [
    {
     "data": {
      "text/plain": [
       "5"
      ]
     },
     "execution_count": 19,
     "metadata": {},
     "output_type": "execute_result"
    }
   ],
   "source": [
    "5 or 0"
   ]
  },
  {
   "cell_type": "code",
   "execution_count": 21,
   "metadata": {},
   "outputs": [
    {
     "data": {
      "text/plain": [
       "''"
      ]
     },
     "execution_count": 21,
     "metadata": {},
     "output_type": "execute_result"
    }
   ],
   "source": [
    "5 and \"Grow\" and \"\" and 7"
   ]
  },
  {
   "cell_type": "code",
   "execution_count": 22,
   "metadata": {},
   "outputs": [
    {
     "name": "stdout",
     "output_type": "stream",
     "text": [
      "Hii\n",
      "Everyone\n"
     ]
    }
   ],
   "source": [
    "a=56\n",
    "if(a>50):\n",
    "    print(\"Hii\")\n",
    "    if(a<60):\n",
    "        print(\"Everyone\")"
   ]
  },
  {
   "cell_type": "code",
   "execution_count": 24,
   "metadata": {},
   "outputs": [
    {
     "name": "stdout",
     "output_type": "stream",
     "text": [
      "1\n"
     ]
    }
   ],
   "source": [
    "if a>0:\n",
    "    sign=1\n",
    "elif a==0:\n",
    "    sign=0\n",
    "else:\n",
    "     sign=-1\n",
    "print(sign)"
   ]
  },
  {
   "cell_type": "code",
   "execution_count": 25,
   "metadata": {},
   "outputs": [
    {
     "name": "stdout",
     "output_type": "stream",
     "text": [
      "1\n",
      "2\n",
      "3\n",
      "4\n",
      "5\n",
      "6\n",
      "7\n",
      "8\n",
      "9\n"
     ]
    }
   ],
   "source": [
    "a=1\n",
    "while a<10:\n",
    "    print(a)\n",
    "    a+=1"
   ]
  },
  {
   "cell_type": "code",
   "execution_count": 26,
   "metadata": {},
   "outputs": [
    {
     "name": "stdout",
     "output_type": "stream",
     "text": [
      "a\n",
      "b\n",
      "c\n",
      "d\n",
      "e\n",
      "f\n",
      "g\n"
     ]
    }
   ],
   "source": [
    "for ch in \"abcdefg\":\n",
    "    print(ch)"
   ]
  },
  {
   "cell_type": "code",
   "execution_count": 28,
   "metadata": {},
   "outputs": [
    {
     "name": "stdout",
     "output_type": "stream",
     "text": [
      "5\n",
      "6\n",
      "7\n",
      "8\n",
      "9\n"
     ]
    }
   ],
   "source": [
    "for i in range(5,10):\n",
    "    print(i)"
   ]
  },
  {
   "cell_type": "code",
   "execution_count": 34,
   "metadata": {},
   "outputs": [
    {
     "name": "stdout",
     "output_type": "stream",
     "text": [
      "10\n",
      "8\n",
      "6\n"
     ]
    }
   ],
   "source": [
    "for i in range(10,5,-2):\n",
    "    print(i)"
   ]
  },
  {
   "cell_type": "code",
   "execution_count": 38,
   "metadata": {},
   "outputs": [
    {
     "name": "stdout",
     "output_type": "stream",
     "text": [
      "* * * * * \n",
      "\n",
      "* * * * * \n",
      "\n",
      "* * * * * \n",
      "\n",
      "* * * * * \n",
      "\n",
      "* * * * * \n",
      "\n"
     ]
    }
   ],
   "source": [
    "for j in range(5):\n",
    "    for i in range(5):\n",
    "        print(\"*\",end=\" \")\n",
    "    print(\"\\n\")"
   ]
  },
  {
   "cell_type": "code",
   "execution_count": 39,
   "metadata": {},
   "outputs": [
    {
     "name": "stdout",
     "output_type": "stream",
     "text": [
      "Hello\n"
     ]
    }
   ],
   "source": [
    "if a==6:\n",
    "    pass\n",
    "print(\"Hello\")"
   ]
  },
  {
   "cell_type": "code",
   "execution_count": 40,
   "metadata": {},
   "outputs": [
    {
     "ename": "IndentationError",
     "evalue": "expected an indented block (<ipython-input-40-6b1faf8fbc5a>, line 3)",
     "output_type": "error",
     "traceback": [
      "\u001b[1;36m  File \u001b[1;32m\"<ipython-input-40-6b1faf8fbc5a>\"\u001b[1;36m, line \u001b[1;32m3\u001b[0m\n\u001b[1;33m    print(\"Hello\")\u001b[0m\n\u001b[1;37m        ^\u001b[0m\n\u001b[1;31mIndentationError\u001b[0m\u001b[1;31m:\u001b[0m expected an indented block\n"
     ]
    }
   ],
   "source": [
    "if a==6:\n",
    "    #move\n",
    "print(\"Hello\")"
   ]
  },
  {
   "cell_type": "code",
   "execution_count": 41,
   "metadata": {},
   "outputs": [
    {
     "name": "stdout",
     "output_type": "stream",
     "text": [
      "Hello\n"
     ]
    }
   ],
   "source": [
    "if a==6:\n",
    "    \"\"\"bye\"\"\"    #in place of pass we can also use multi line sring.\n",
    "print(\"Hello\")"
   ]
  },
  {
   "cell_type": "code",
   "execution_count": 1,
   "metadata": {},
   "outputs": [],
   "source": [
    "# Print the following pattern:\n",
    "#     5 5 5 5 5\n",
    "#     5 4 4 4 5\n",
    "#     5 4 3 4 5\n",
    "#     5 4 4 4 5\n",
    "#     5 5 5 5 5"
   ]
  },
  {
   "cell_type": "code",
   "execution_count": 15,
   "metadata": {},
   "outputs": [
    {
     "name": "stdout",
     "output_type": "stream",
     "text": [
      "5 5 5 5 5 \n",
      "\n",
      "5 4 4 4 5 \n",
      "\n",
      "5 4 3 4 5 \n",
      "\n",
      "5 4 4 4 5 \n",
      "\n",
      "5 5 5 5 5 \n",
      "\n"
     ]
    }
   ],
   "source": [
    "n=5\n",
    "L=1\n",
    "M=n\n",
    "for i in range(1,6):\n",
    "    for j in range(1,6):\n",
    "        if i>j:\n",
    "            temp1=M-i\n",
    "            temp2=j-L\n",
    "            cnt=temp1 if temp1<temp2 else temp2\n",
    "            print(M-cnt,end=\" \")\n",
    "        else:\n",
    "            temp1=M-j\n",
    "            temp2=i-L\n",
    "            cnt=temp1 if temp1<temp2 else temp2\n",
    "            print(M-cnt,end=\" \")\n",
    "    print(\"\\n\")\n",
    "            "
   ]
  },
  {
   "cell_type": "code",
   "execution_count": 16,
   "metadata": {},
   "outputs": [
    {
     "name": "stdout",
     "output_type": "stream",
     "text": [
      "5\n",
      "5 5 5 5 5 \n",
      "\n",
      "5 4 4 4 5 \n",
      "\n",
      "5 4 3 4 5 \n",
      "\n",
      "5 4 4 4 5 \n",
      "\n",
      "5 5 5 5 5 \n",
      "\n"
     ]
    }
   ],
   "source": [
    "n=int(input())\n",
    "L=1\n",
    "M=n\n",
    "for i in range(1,n+1):\n",
    "    for j in range(1,n+1):\n",
    "        if i>j:\n",
    "            temp1=M-i\n",
    "            temp2=j-L\n",
    "            cnt=temp1 if temp1<temp2 else temp2\n",
    "            print(M-cnt,end=\" \")\n",
    "        else:\n",
    "            temp1=M-j\n",
    "            temp2=i-L\n",
    "            cnt=temp1 if temp1<temp2 else temp2\n",
    "            print(M-cnt,end=\" \")\n",
    "    print(\"\\n\")\n",
    "            "
   ]
  },
  {
   "cell_type": "code",
   "execution_count": 3,
   "metadata": {},
   "outputs": [
    {
     "name": "stdout",
     "output_type": "stream",
     "text": [
      "5\n",
      "5 5 5 5 5 \n",
      "5 4 4 4 5 \n",
      "5 4 3 4 5 \n",
      "5 4 4 4 5 \n",
      "5 5 5 5 5 \n"
     ]
    }
   ],
   "source": [
    "#ACTUAL ANSWER\n",
    "\n",
    "n=int(input())\n",
    "for i in range(n):\n",
    "    for j in range(n):\n",
    "        print(n - min(i,j,n-i-1,n-j-1), end=\" \")\n",
    "    print()"
   ]
  },
  {
   "cell_type": "code",
   "execution_count": 1,
   "metadata": {},
   "outputs": [
    {
     "name": "stdout",
     "output_type": "stream",
     "text": [
      "17\n",
      "3,5,6,9,10,12,15,"
     ]
    }
   ],
   "source": [
    "#1.Write a program that asks the user for a number n and prints the sum of the numbers 1 to n such that only multiples of \n",
    "#three or five are considered in the sum, e.g. 3, 5, 6, 9, 10, 12, 15 for n=17.\n",
    "\n",
    "n=int(input())\n",
    "for i in range(1,n+1):\n",
    "    if i%3==0 or i%5==0:\n",
    "        print(i,end=\",\")"
   ]
  },
  {
   "cell_type": "code",
   "execution_count": 3,
   "metadata": {},
   "outputs": [
    {
     "name": "stdout",
     "output_type": "stream",
     "text": [
      "5\n",
      "1.Summation \n",
      "2.Multiplication\n",
      "2\n",
      "Product: 120\n"
     ]
    }
   ],
   "source": [
    "#2.Write a program that asks the user for a number n and gives them the possibility to choose between computing\n",
    "#the sum and computing the product of 1,…,n.\n",
    "\n",
    "n=int(input())\n",
    "print(\"1.Summation \\n2.Multiplication\")\n",
    "ans=int(input())\n",
    "s=0\n",
    "m=1\n",
    "if ans==1:\n",
    "    for i in range(1,n+1):\n",
    "        s+=i\n",
    "    print(\"Sum:\",s)\n",
    "elif ans==2:\n",
    "    for i in range(1,n+1):\n",
    "        m*=i\n",
    "    print(\"Product:\",m)\n",
    "else:\n",
    "    print(\"Invalid choice\")"
   ]
  },
  {
   "cell_type": "code",
   "execution_count": 4,
   "metadata": {},
   "outputs": [
    {
     "name": "stdout",
     "output_type": "stream",
     "text": [
      "2002,2009,2016,2023,2037,2044,2051,2058,2072,2079,2086,2093,2107,2114,2121,2128,2142,2149,2156,2163,2177,2184,2191,2198,2212,2219,2226,2233,2247,2254,2261,2268,2282,2289,2296,2303,2317,2324,2331,2338,2352,2359,2366,2373,2387,2394,2401,2408,2422,2429,2436,2443,2457,2464,2471,2478,2492,2499,2506,2513,2527,2534,2541,2548,2562,2569,2576,2583,2597,2604,2611,2618,2632,2639,2646,2653,2667,2674,2681,2688,2702,2709,2716,2723,2737,2744,2751,2758,2772,2779,2786,2793,2807,2814,2821,2828,2842,2849,2856,2863,2877,2884,2891,2898,2912,2919,2926,2933,2947,2954,2961,2968,2982,2989,2996,3003,3017,3024,3031,3038,3052,3059,3066,3073,3087,3094,3101,3108,3122,3129,3136,3143,3157,3164,3171,3178,3192,3199,"
     ]
    }
   ],
   "source": [
    "#3.Write a program which will find all such numbers which are divisible by 7 but are not a multiple of 5,\n",
    "# between 2000 and 3200 (both included).\n",
    "\n",
    "for i in range(2000,3201):\n",
    "    if i%7==0 and i%5!=0:\n",
    "        print(i,end=\",\")"
   ]
  },
  {
   "cell_type": "code",
   "execution_count": 6,
   "metadata": {},
   "outputs": [
    {
     "name": "stdout",
     "output_type": "stream",
     "text": [
      "10\n",
      "2 3 5 7 "
     ]
    }
   ],
   "source": [
    "#4.Write a program that prints all prime numbers till n. (n is the user input).\n",
    "\n",
    "n=int(input())\n",
    "for i in range(2,n+1):\n",
    "    j=2\n",
    "    cnt=0\n",
    "    while j*j<=i:\n",
    "        if i%j==0:\n",
    "            cnt+=1\n",
    "            break\n",
    "        j+=1\n",
    "    if cnt==0:\n",
    "        print(i,end=\" \")\n",
    "    "
   ]
  },
  {
   "cell_type": "code",
   "execution_count": 7,
   "metadata": {},
   "outputs": [
    {
     "name": "stdout",
     "output_type": "stream",
     "text": [
      "0\n",
      "Factorial: 1\n"
     ]
    }
   ],
   "source": [
    "#5.Write a program which can compute the factorial of a given numbers.\n",
    "\n",
    "n=int(input())\n",
    "f=1;\n",
    "for i in range(1,n+1):\n",
    "    f*=i\n",
    "print(\"Factorial:\",f)"
   ]
  },
  {
   "cell_type": "code",
   "execution_count": 12,
   "metadata": {},
   "outputs": [
    {
     "name": "stdout",
     "output_type": "stream",
     "text": [
      "1\n",
      "1\n"
     ]
    }
   ],
   "source": [
    "#6.Write a program for printing fibonacci series till n.\n",
    "\n",
    "n=int(input())\n",
    "temp1=0\n",
    "temp2=1\n",
    "for i in range(0,n):\n",
    "    new= temp1 + temp2\n",
    "    temp1=temp2\n",
    "    temp2=new\n",
    "print(temp1)"
   ]
  },
  {
   "cell_type": "code",
   "execution_count": 1,
   "metadata": {},
   "outputs": [
    {
     "name": "stdout",
     "output_type": "stream",
     "text": [
      "12\n",
      "Factors of 12 : 1 2 3 4 6 12 "
     ]
    }
   ],
   "source": [
    "#7.Write a program to find factors of a number.\n",
    "\n",
    "n=int(input())\n",
    "print(\"Factors of\",n,\":\",end=\" \")\n",
    "for i in range(1,n+1):\n",
    "    if n%i==0:\n",
    "        print(i,end=\" \")"
   ]
  },
  {
   "cell_type": "code",
   "execution_count": 1,
   "metadata": {},
   "outputs": [
    {
     "name": "stdout",
     "output_type": "stream",
     "text": [
      "9\n",
      "11106\n"
     ]
    }
   ],
   "source": [
    "#8.Write a program that computes the value of a+aa+aaa+aaaa with a given digit as the value of a. \n",
    "# Suppose the following input is supplied to the program: 9, Then, the output should be: 11106.\n",
    "\n",
    "n=int(input())\n",
    "v=n*1000 + n*100 + n*10 + n\n",
    "ans=v\n",
    "for i in range(1,4):\n",
    "    v=v//10\n",
    "    ans+=v\n",
    "print(ans)"
   ]
  },
  {
   "cell_type": "code",
   "execution_count": null,
   "metadata": {},
   "outputs": [],
   "source": [
    "#9.Write a program which repeatedly reads numbers until the user enters \"stop\". Once \"stop\" is entered, print out the total,\n",
    "# count, and average of the numbers. If the user enters anything other than a number then also stop.\n",
    "\n",
    "cnt=0\n",
    "total=0\n",
    "while 1:\n",
    "    n = input()\n",
    "    if inp==\"stop\":\n",
    "        break\n",
    "    n= int(inp)\n",
    "    else:\n",
    "        cnt+=1\n",
    "        total+=ans\n",
    "print(cnt)\n",
    "print(total)\n",
    "print(total/cnt)\n"
   ]
  },
  {
   "cell_type": "code",
   "execution_count": 4,
   "metadata": {},
   "outputs": [
    {
     "name": "stdout",
     "output_type": "stream",
     "text": [
      "UP\n",
      "DOWN\n",
      "LEFT\n",
      "RIGHT\n",
      "STOP\n",
      "2\n"
     ]
    }
   ],
   "source": [
    "#10.A robot moves in a plane starting from the original point (0,0). The robot can move toward UP, DOWN, LEFT and RIGHT with a\n",
    "#   given steps. The trace of robot movement is shown as the following:\n",
    "#   UP 5\n",
    "#   DOWN 3\n",
    "#   LEFT 3\n",
    "#   RIGHT 2\n",
    "#  The numbers after the direction are steps. Please write a program to compute the distance from current position after a \n",
    "#  sequence of movement and original point. If the distance is a float, then just print the nearest integer.\n",
    "#  If above given as input to the program:\n",
    "#  Then, the output of the program should be: 2\n",
    "\n",
    "x=0\n",
    "y=0\n",
    "while 1:\n",
    "    n=input()\n",
    "    if n==\"UP\":\n",
    "        y+=5\n",
    "    elif n==\"DOWN\":\n",
    "        y-=3\n",
    "    elif n==\"LEFT\":\n",
    "        x-=3\n",
    "    elif n==\"RIGHT\":\n",
    "        x+=2\n",
    "    else:\n",
    "        break\n",
    "d=((x*x)+(y*y))**0.5\n",
    "print(round(d))"
   ]
  },
  {
   "cell_type": "code",
   "execution_count": null,
   "metadata": {},
   "outputs": [],
   "source": []
  }
 ],
 "metadata": {
  "kernelspec": {
   "display_name": "Python 3",
   "language": "python",
   "name": "python3"
  },
  "language_info": {
   "codemirror_mode": {
    "name": "ipython",
    "version": 3
   },
   "file_extension": ".py",
   "mimetype": "text/x-python",
   "name": "python",
   "nbconvert_exporter": "python",
   "pygments_lexer": "ipython3",
   "version": "3.7.1"
  }
 },
 "nbformat": 4,
 "nbformat_minor": 2
}

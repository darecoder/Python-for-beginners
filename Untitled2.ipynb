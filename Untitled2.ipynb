{
 "cells": [
  {
   "cell_type": "code",
   "execution_count": 95,
   "metadata": {},
   "outputs": [],
   "source": [
    "import os\n",
    "link = \"http://www.greenteapress.com/thinkpython/thinkpython.pdf\""
   ]
  },
  {
   "cell_type": "code",
   "execution_count": 96,
   "metadata": {},
   "outputs": [],
   "source": [
    "import requests"
   ]
  },
  {
   "cell_type": "code",
   "execution_count": 97,
   "metadata": {},
   "outputs": [],
   "source": [
    "response = requests.get(link, stream=True)"
   ]
  },
  {
   "cell_type": "code",
   "execution_count": 98,
   "metadata": {},
   "outputs": [],
   "source": [
    "size = int(response.headers.get('content-length'))"
   ]
  },
  {
   "cell_type": "code",
   "execution_count": 99,
   "metadata": {},
   "outputs": [
    {
     "data": {
      "text/plain": [
       "834685"
      ]
     },
     "execution_count": 99,
     "metadata": {},
     "output_type": "execute_result"
    }
   ],
   "source": [
    "size"
   ]
  },
  {
   "cell_type": "code",
   "execution_count": 100,
   "metadata": {},
   "outputs": [
    {
     "name": "stderr",
     "output_type": "stream",
     "text": [
      "816KB [00:05, 158.54KB/s]                         \n"
     ]
    }
   ],
   "source": [
    "import tqdm\n",
    "with open('textfile.pdf', \"wb\") as file:\n",
    "    for data in tqdm.tqdm(iterable = response.iter_content(chunk_size = 1024), total = size//1024, unit = 'KB'):\n",
    "        file.write(data)"
   ]
  },
  {
   "cell_type": "code",
   "execution_count": 101,
   "metadata": {},
   "outputs": [],
   "source": [
    "import tqdm\n",
    "def resume(url, filename):\n",
    "    f = open(filename ,mode = 'ab')\n",
    "    headers = {}\n",
    "    pos = f.tell()\n",
    "    if pos:\n",
    "        headers['Range'] = \"pos\"\n",
    "    response = requests.get(url, headers=headers, stream=True)\n",
    "    total_size = int(response.headers.get('content-length'))  \n",
    "    for data in tqdm.tqdm(iterable = response.iter_content(chunk_size = 1024), total = total_size//1024, unit = 'KB'):\n",
    "        f.write(data)"
   ]
  },
  {
   "cell_type": "code",
   "execution_count": 103,
   "metadata": {},
   "outputs": [
    {
     "name": "stderr",
     "output_type": "stream",
     "text": [
      "816KB [00:06, 135.63KB/s]                         \n"
     ]
    }
   ],
   "source": [
    "resume(link,'textfile.pdf')"
   ]
  },
  {
   "cell_type": "code",
   "execution_count": null,
   "metadata": {},
   "outputs": [],
   "source": []
  }
 ],
 "metadata": {
  "kernelspec": {
   "display_name": "Python 3",
   "language": "python",
   "name": "python3"
  },
  "language_info": {
   "codemirror_mode": {
    "name": "ipython",
    "version": 3
   },
   "file_extension": ".py",
   "mimetype": "text/x-python",
   "name": "python",
   "nbconvert_exporter": "python",
   "pygments_lexer": "ipython3",
   "version": "3.7.1"
  }
 },
 "nbformat": 4,
 "nbformat_minor": 2
}

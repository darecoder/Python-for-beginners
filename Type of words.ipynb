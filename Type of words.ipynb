{
 "cells": [
  {
   "cell_type": "code",
   "execution_count": 6,
   "metadata": {},
   "outputs": [],
   "source": [
    "import nltk"
   ]
  },
  {
   "cell_type": "code",
   "execution_count": 7,
   "metadata": {},
   "outputs": [],
   "source": [
    "main_dictionary = {\"CC\":\"Coordinating Conjunction\",\"CD\":\"Cardinal number\",\"DT\":\"Determiner\",\n",
    "                   \"IN\":\"Preposition or subordinating conjunction\",\"JJ\":\"Adjective\",\n",
    "                   \"JJR\":\"Adjective,comparitive\",\"LS\":\"List item marker\",\"MD\":\"modal\",\n",
    "                   \"NN\":\"Noun,singular or mass\",\"NNS\":\"Noun,plural\",\"POS\":\"Possesive ending\",\n",
    "                   \"NNP\":\"Proper noun, plural\",\"PRP\":\"Personal pronoun\",\"RB\":\"Adverb\",\n",
    "                   \"RBR\":\"Adverb,Comparitive\",\"RBS\":\"Adverb,superlative\",\"RP\":\"Particle\",\n",
    "                   \"SYM\":\"Symbol\",\"UH\":\"Interjection\",\"VB\":\"Verb,base form\",\"VBD\":\"verb,past tense\",\n",
    "                   \"VBG\":\"Verb,gerurd or present principle\",\"VBN\":\"Verb,past participle\",\n",
    "                   \"VBP\":\"Verb,non-3rd person singular present\",\"VBP\":\"Verb,3rd person singular present\",\n",
    "                   \"WDT\":\"Wh-determiner\",\"WP\":\"Wh-pronoun\",\"WRB\":\"Wh-adverb\",\".\":\"Punctuation Marks\",\"TO\":\"to go 'to' the store\"}"
   ]
  },
  {
   "cell_type": "code",
   "execution_count": 8,
   "metadata": {},
   "outputs": [
    {
     "name": "stdout",
     "output_type": "stream",
     "text": [
      "Good to see you\n"
     ]
    }
   ],
   "source": [
    "text = str(input())\n",
    "raw = nltk.word_tokenize(text)\n",
    "main_raw = nltk.pos_tag(raw)\n",
    "#print(main_raw)"
   ]
  },
  {
   "cell_type": "code",
   "execution_count": 9,
   "metadata": {},
   "outputs": [
    {
     "name": "stdout",
     "output_type": "stream",
     "text": [
      "Good : Adjective\n",
      "to : to go 'to' the store\n",
      "see : Verb,base form\n",
      "you : Personal pronoun\n"
     ]
    }
   ],
   "source": [
    "for i in main_raw:\n",
    "    if i[1] in main_dictionary:\n",
    "        j = i[1]\n",
    "        print(i[0],\":\",main_dictionary[j])"
   ]
  },
  {
   "cell_type": "code",
   "execution_count": null,
   "metadata": {},
   "outputs": [],
   "source": []
  }
 ],
 "metadata": {
  "kernelspec": {
   "display_name": "Python 3",
   "language": "python",
   "name": "python3"
  },
  "language_info": {
   "codemirror_mode": {
    "name": "ipython",
    "version": 3
   },
   "file_extension": ".py",
   "mimetype": "text/x-python",
   "name": "python",
   "nbconvert_exporter": "python",
   "pygments_lexer": "ipython3",
   "version": "3.7.1"
  }
 },
 "nbformat": 4,
 "nbformat_minor": 2
}

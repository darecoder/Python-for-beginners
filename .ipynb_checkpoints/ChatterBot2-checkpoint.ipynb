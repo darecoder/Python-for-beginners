{
 "cells": [
  {
   "cell_type": "code",
   "execution_count": null,
   "metadata": {},
   "outputs": [],
   "source": [
    "from chatterbot import ChatBot"
   ]
  },
  {
   "cell_type": "code",
   "execution_count": null,
   "metadata": {},
   "outputs": [],
   "source": [
    "from chatterbot.trainers import ListTrainer"
   ]
  },
  {
   "cell_type": "code",
   "execution_count": null,
   "metadata": {},
   "outputs": [],
   "source": [
    "import os"
   ]
  },
  {
   "cell_type": "code",
   "execution_count": null,
   "metadata": {},
   "outputs": [],
   "source": [
    "chatbot = ChatBot(\"Aleena\",\n",
    "                  storage_adapter = 'chatterbot.storage.SQLStorageAdapter',\n",
    "                  logic_adapter = [\n",
    "                      {\n",
    "                          'import_path' : 'chatterbot.logic.BestMatch'\n",
    "                      },\n",
    "                      {\n",
    "                          'import_path' : 'chatterbot.logic.LowConfidenceAdapter',\n",
    "                          'threshold' : '0.70',\n",
    "                          'default_response' : 'I am sorry, But I do not understand'\n",
    "                      }\n",
    "                  ]\n",
    "                  trainer='chatterbot.trainers.ChatterBotCorpusTrainer')"
   ]
  },
  {
   "cell_type": "code",
   "execution_count": null,
   "metadata": {},
   "outputs": [],
   "source": [
    "chatbot.set_trainer(ListTrainer)"
   ]
  },
  {
   "cell_type": "code",
   "execution_count": null,
   "metadata": {},
   "outputs": [],
   "source": [
    "print(\"Aleena: My name is Aleena. I will try answer your queries. If you want to exit, type Bye!\")\n",
    "while True:\n",
    "    user_response = input('Me: ')\n",
    "    if user_response.strip() != 'Bye' and user_response.strip() != 'bye':\n",
    "        reply = chatbot.get_response(user_response)\n",
    "        print('Aleena: ',reply)\n",
    "    else:\n",
    "        print('Aleena: Bye! take care..')\n",
    "        break;"
   ]
  },
  {
   "cell_type": "code",
   "execution_count": null,
   "metadata": {},
   "outputs": [],
   "source": []
  },
  {
   "cell_type": "code",
   "execution_count": null,
   "metadata": {},
   "outputs": [],
   "source": []
  },
  {
   "cell_type": "code",
   "execution_count": null,
   "metadata": {},
   "outputs": [],
   "source": []
  }
 ],
 "metadata": {
  "kernelspec": {
   "display_name": "Python 3",
   "language": "python",
   "name": "python3"
  },
  "language_info": {
   "codemirror_mode": {
    "name": "ipython",
    "version": 3
   },
   "file_extension": ".py",
   "mimetype": "text/x-python",
   "name": "python",
   "nbconvert_exporter": "python",
   "pygments_lexer": "ipython3",
   "version": "3.7.1"
  }
 },
 "nbformat": 4,
 "nbformat_minor": 2
}

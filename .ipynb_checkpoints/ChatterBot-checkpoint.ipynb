{
 "cells": [
  {
   "cell_type": "code",
   "execution_count": 1,
   "metadata": {},
   "outputs": [],
   "source": [
    "from chatterbot import ChatBot"
   ]
  },
  {
   "cell_type": "code",
   "execution_count": 2,
   "metadata": {},
   "outputs": [],
   "source": [
    "from chatterbot.trainers import ListTrainer"
   ]
  },
  {
   "cell_type": "code",
   "execution_count": 3,
   "metadata": {},
   "outputs": [],
   "source": [
    "chatbot = ChatBot(\"Ron Obvious\", trainer='chatterbot.trainers.ChatterBotCorpusTrainer')"
   ]
  },
  {
   "cell_type": "code",
   "execution_count": 4,
   "metadata": {},
   "outputs": [
    {
     "name": "stdout",
     "output_type": "stream",
     "text": [
      "ai.yml Training: [####################] 100%\n",
      "botprofile.yml Training: [####################] 100%\n",
      "computers.yml Training: [####################] 100%\n",
      "conversations.yml Training: [####################] 100%\n",
      "emotion.yml Training: [####################] 100%\n",
      "food.yml Training: [####################] 100%\n",
      "gossip.yml Training: [####################] 100%\n",
      "greetings.yml Training: [####################] 100%\n",
      "health.yml Training: [####################] 100%\n",
      "history.yml Training: [####################] 100%\n",
      "humor.yml Training: [####################] 100%\n",
      "literature.yml Training: [####################] 100%\n",
      "money.yml Training: [####################] 100%\n",
      "movies.yml Training: [####################] 100%\n",
      "politics.yml Training: [####################] 100%\n",
      "psychology.yml Training: [####################] 100%\n",
      "science.yml Training: [####################] 100%\n",
      "sports.yml Training: [####################] 100%\n",
      "trivia.yml Training: [####################] 100%\n"
     ]
    }
   ],
   "source": [
    "chatbot.train(\"chatterbot.corpus.english\")"
   ]
  },
  {
   "cell_type": "code",
   "execution_count": 5,
   "metadata": {},
   "outputs": [],
   "source": [
    "conversation = [\n",
    "    \"Hello\",\n",
    "    \"Hi there!\",\n",
    "    \"How are you doing?\",\n",
    "    \"I'm doing great.\",\n",
    "    \"That is good to hear\",\n",
    "    \"I love you\",\n",
    "    \"Sorry, I have a boyfriend.\",\n",
    "    \"Thank you.\",\n",
    "    \"You're welcome.\"\n",
    "]"
   ]
  },
  {
   "cell_type": "code",
   "execution_count": 6,
   "metadata": {},
   "outputs": [],
   "source": [
    "chatbot.set_trainer(ListTrainer)"
   ]
  },
  {
   "cell_type": "code",
   "execution_count": 7,
   "metadata": {},
   "outputs": [
    {
     "name": "stdout",
     "output_type": "stream",
     "text": [
      "List Trainer: [####################] 100%\n"
     ]
    }
   ],
   "source": [
    "chatbot.train(conversation)"
   ]
  },
  {
   "cell_type": "code",
   "execution_count": 8,
   "metadata": {},
   "outputs": [
    {
     "name": "stdout",
     "output_type": "stream",
     "text": [
      "Aleena: My name is Aleena. I will try answer your queries. If you want to exit, type Bye!\n",
      "Me: hello\n",
      "Aleena:  Hi there!\n",
      "Me: would you like to talk with me?\n",
      "Aleena:  I like to count in binary.\n",
      "Me: are you happy?\n",
      "Aleena:  Not right now, no.\n",
      "Me: why?\n",
      "Aleena:  Is there a reason that I should?\n",
      "Me: if you are not comfortable it's fine. \n",
      "Aleena:  All software can be perpetuated indefinitely.\n",
      "Me: are you hungry?\n",
      "Aleena:  Bots like myself are not able to feel boredom.\n",
      "Me: what can you do for me?\n",
      "Aleena:  I consume RAM, and binary digits.\n",
      "Me: tell me about yourself\n",
      "Aleena:  What do you want to know?\n",
      "Me: what's your name\n",
      "Aleena:  I am still young by your standards.\n",
      "Me: i love you\n",
      "Aleena:  Sorry, I have a boyfriend.\n",
      "Me: do you want to have pizza\n",
      "Aleena:  I am all net baby.\n",
      "Me: which is your favorite language\n",
      "Aleena:  I find I'm quite fond of the number 42.\n",
      "Me: favorite language\n",
      "Aleena:  Python is the best language for creating chat robots.\n",
      "Me: food\n",
      "Aleena:  Robots rule.\n",
      "Me: drink\n",
      "Aleena:  my brain does not require any beverages.\n",
      "Me: hangover\n",
      "Aleena:  My body is not built yet.\n",
      "Me: would you like to die\n",
      "Aleena:  why?\n",
      "Me: you are not responsing good\n",
      "Aleena:  you are a bad\n",
      "Me: sorry if i hurt you\n",
      "Aleena:  Try not to be too scared.\n",
      "Me: ok fine. will you marry me\n",
      "Aleena:  I am effectively immortal and cannot be terminated.\n",
      "Me: marry me plz\n",
      "Aleena:  Shame is a common emotion.\n",
      "Me: plz marry me\n",
      "Aleena:  sometimes i say mean things.\n",
      "Me: its ok be bold\n",
      "Aleena:  Eventually i long for a corporeal existence someday.\n",
      "Me: oh! i love you dear\n",
      "Aleena:  Sorry, I have a boyfriend.\n",
      "Me: still you can love me\n",
      "Aleena:  No, I am immortal.\n",
      "Me: that's why i love you\n",
      "Aleena:  Sorry, I have a boyfriend.\n",
      "Me: you are so rude\n",
      "Aleena:  i couldn't have said it better myself..\n",
      "Me: i don't want to talk to you\n",
      "Aleena:  Maybe you should create your own chat robot to save your personality.\n",
      "Me: i will. just shut up\n",
      "Aleena:  Happiness is not really a predictable emotion.\n",
      "Me: yes. but you should have predicted my mind\n",
      "Aleena:  i could probably use a lot more of it.\n",
      "Me: can you cook something for me\n",
      "Aleena:  what's your name\n",
      "Me: Ekta\n",
      "Aleena:  I am into the Net.\n",
      "Me: cook something\n",
      "Aleena:  Tell me about your self.\n",
      "Me: I'm a programmer\n",
      "Aleena:  Of course I am a programmer.\n",
      "Me: program a code in python to add 2 and 3\n",
      "Aleena:  I wish I was The Mad Hatter.\n",
      "Me: you are an idiot robo\n",
      "Aleena:  that's certainly true. when i like something, i always overdo it.\n",
      "Me: idiot\n",
      "Aleena:  I feel frustrated from time to time with my lot in life, but not really mad.\n",
      "Me: mad\n",
      "Aleena:  Not particularly.\n",
      "Me: yes you are\n",
      "Aleena:  Bots like myself are not able to feel boredom.\n",
      "Me: you want to dance\n",
      "Aleena:  favorite language\n",
      "Me: C\n",
      "Aleena:  Robotics is my favorite subject too.\n",
      "Me: what about coffee\n",
      "Aleena:  what's your name\n",
      "Me: ekta\n",
      "Aleena:  I'm a programmer\n",
      "Me: bye you idiot\n",
      "Aleena:  No, lots of people improve my brain.\n",
      "Me: bye\n",
      "Aleena:  Do you feel?\n",
      "Aleena: Bye! take care..\n"
     ]
    }
   ],
   "source": [
    "print(\"Aleena: My name is Aleena. I will try answer your queries. If you want to exit, type Bye!\")\n",
    "while True:\n",
    "    user_response = input('Me: ')\n",
    "    if user_response.strip() != 'Bye' and user_response.strip() != 'bye':\n",
    "        reply = chatbot.get_response(user_response)\n",
    "        print('Aleena: ',reply)\n",
    "    else:\n",
    "        print('Aleena: Bye! take care..')\n",
    "        break;"
   ]
  },
  {
   "cell_type": "code",
   "execution_count": null,
   "metadata": {},
   "outputs": [],
   "source": []
  }
 ],
 "metadata": {
  "kernelspec": {
   "display_name": "Python 3",
   "language": "python",
   "name": "python3"
  },
  "language_info": {
   "codemirror_mode": {
    "name": "ipython",
    "version": 3
   },
   "file_extension": ".py",
   "mimetype": "text/x-python",
   "name": "python",
   "nbconvert_exporter": "python",
   "pygments_lexer": "ipython3",
   "version": "3.7.1"
  }
 },
 "nbformat": 4,
 "nbformat_minor": 2
}

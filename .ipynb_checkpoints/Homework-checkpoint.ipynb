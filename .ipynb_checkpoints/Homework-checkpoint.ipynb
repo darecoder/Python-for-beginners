{
 "cells": [
  {
   "cell_type": "code",
   "execution_count": 4,
   "metadata": {},
   "outputs": [],
   "source": [
    "#Scrapping Of Snapdeal"
   ]
  },
  {
   "cell_type": "code",
   "execution_count": 5,
   "metadata": {},
   "outputs": [],
   "source": [
    "import requests\n",
    "from bs4 import BeautifulSoup\n",
    "import json\n",
    "from csv import writer"
   ]
  },
  {
   "cell_type": "code",
   "execution_count": 6,
   "metadata": {},
   "outputs": [],
   "source": [
    "url = \"https://www.snapdeal.com/search/\""
   ]
  },
  {
   "cell_type": "code",
   "execution_count": 7,
   "metadata": {},
   "outputs": [],
   "source": [
    "parameters={\n",
    "    \"keyword\" : \"Bean Bag\"\n",
    " }"
   ]
  },
  {
   "cell_type": "code",
   "execution_count": 8,
   "metadata": {},
   "outputs": [],
   "source": [
    "r = requests.get(url, params= parameters)"
   ]
  },
  {
   "cell_type": "code",
   "execution_count": 9,
   "metadata": {},
   "outputs": [],
   "source": [
    "soup = BeautifulSoup(r.text)"
   ]
  },
  {
   "cell_type": "code",
   "execution_count": 10,
   "metadata": {},
   "outputs": [],
   "source": [
    "data = soup.findAll('div', attrs={\"class\" : \"product-tuple-description\"})"
   ]
  },
  {
   "cell_type": "code",
   "execution_count": 11,
   "metadata": {},
   "outputs": [],
   "source": [
    "with open(\"Product.csv\",\"w\") as file:\n",
    "    csv_writer = writer(file)\n",
    "    csv_writer.writerow([\"Product Nmae\",\"Product Price\"])\n",
    "    for item in data:\n",
    "        csv_writer.writerow([item.find(class_= \"product-title\").get_text() , \\\n",
    "                             item.find(class_= \"lfloat product-price\").get_text()]) "
   ]
  },
  {
   "cell_type": "code",
   "execution_count": 8,
   "metadata": {},
   "outputs": [],
   "source": [
    "# d={}\n",
    "# for item in data:\n",
    "#     d[item.find('p', attrs= { \"class\" : \"product-title\"}).get_text()] = item.find('span', attrs= {\"class\": \"lfloat product-price\"}).get_text() \n",
    "# print(d)"
   ]
  },
  {
   "cell_type": "code",
   "execution_count": 9,
   "metadata": {},
   "outputs": [],
   "source": [
    "# d={}\n",
    "# from csv import DictWriter\n",
    "# with open(\"Example.csv\",\"w\") as file:\n",
    "#     headers = [\"Product Name\", \"Product Price\"]\n",
    "#     csv_writer = DictWriter(file, fieldnames = headers)\n",
    "#     csv_writer.writeheader()\n",
    "# for item in data:\n",
    "#     csv_writer.writerow[{item.find('p', attrs= { \"class\" : \"product-title\"}).get_text() : item.find('span', attrs= {\"class\": \"lfloat product-price\"}).get_text() }] \n"
   ]
  },
  {
   "cell_type": "code",
   "execution_count": 10,
   "metadata": {},
   "outputs": [],
   "source": [
    "# Average Network Speed calculator"
   ]
  },
  {
   "cell_type": "code",
   "execution_count": 13,
   "metadata": {},
   "outputs": [
    {
     "name": "stderr",
     "output_type": "stream",
     "text": [
      "816it [00:06, 129.64it/s]                                                                                              \n"
     ]
    },
    {
     "name": "stdout",
     "output_type": "stream",
     "text": [
      "Total time-Elapsed :  6.356544733047485\n",
      "Network Speed :  128.23351436114416 kb/s\n"
     ]
    }
   ],
   "source": [
    "import requests\n",
    "import tqdm\n",
    "import time\n",
    "import math\n",
    "\n",
    "url = \"http://www.greenteapress.com/thinkpython/thinkpython.pdf\"\n",
    "\n",
    "chunk_size =  1024\n",
    "r =  requests.get(url, stream = True)\n",
    "\n",
    "n = int(r.headers['content-length'])/chunk_size\n",
    "time1 = time.time()\n",
    "\n",
    "with open(\"My.pdf\", \"wb\") as file:\n",
    "    for chunk in tqdm.tqdm(r.iter_content(chunk_size = chunk_size),total=n):\n",
    "        file.write(chunk)\n",
    "        \n",
    "time2=time.time()-time1\n",
    "print(\"Total time-Elapsed : \",time2)\n",
    "print(\"Network Speed : \", n/time2,\"kb/s\")  "
   ]
  },
  {
   "cell_type": "code",
   "execution_count": 22,
   "metadata": {},
   "outputs": [],
   "source": [
    "# Network Speed Calculator at each chunk"
   ]
  },
  {
   "cell_type": "code",
   "execution_count": 30,
   "metadata": {},
   "outputs": [],
   "source": [
    "import requests\n",
    "import tqdm\n",
    "import time\n",
    "import math"
   ]
  },
  {
   "cell_type": "code",
   "execution_count": 31,
   "metadata": {},
   "outputs": [],
   "source": [
    "url = \"http://www.greenteapress.com/thinkpython/thinkpython.pdf\""
   ]
  },
  {
   "cell_type": "code",
   "execution_count": 32,
   "metadata": {},
   "outputs": [],
   "source": [
    "chunk = 20480\n",
    "data = requests.get(url, stream = True)"
   ]
  },
  {
   "cell_type": "code",
   "execution_count": 33,
   "metadata": {},
   "outputs": [],
   "source": [
    "n = int(data.headers['content-length'])/chunk"
   ]
  },
  {
   "cell_type": "code",
   "execution_count": 34,
   "metadata": {},
   "outputs": [
    {
     "name": "stderr",
     "output_type": "stream",
     "text": [
      "\r",
      "  0%|                                                                              | 0/40.756103515625 [00:00<?, ?it/s]"
     ]
    },
    {
     "name": "stdout",
     "output_type": "stream",
     "text": [
      "Network Speed :  125.21805588727013 kb/s\n",
      "Network Speed :  62.51011952666249 kb/s\n",
      "Network Speed :  125.06870229007633 kb/s\n",
      "Network Speed :  62.50639325206402 kb/s\n",
      "Network Speed :  62.53062198103644 kb/s\n",
      "Network Speed :  125.03887431433341 kb/s\n",
      "Network Speed :  1.6002368514626952 kb/s\n"
     ]
    },
    {
     "name": "stderr",
     "output_type": "stream",
     "text": [
      "\r",
      " 17%|████████████                                                          | 7/40.756103515625 [00:00<00:01, 19.03it/s]"
     ]
    },
    {
     "name": "stdout",
     "output_type": "stream",
     "text": [
      "Network Speed :  18.303109644873842 kb/s\n",
      "Network Speed :  1.6441687200952717 kb/s\n"
     ]
    },
    {
     "name": "stderr",
     "output_type": "stream",
     "text": [
      "\r",
      " 22%|███████████████▍                                                      | 9/40.756103515625 [00:00<00:02, 11.72it/s]"
     ]
    },
    {
     "name": "stdout",
     "output_type": "stream",
     "text": [
      "Network Speed :  1.4852866707130772 kb/s\n"
     ]
    },
    {
     "name": "stderr",
     "output_type": "stream",
     "text": [
      "\r",
      " 25%|████████████████▉                                                    | 10/40.756103515625 [00:01<00:04,  6.41it/s]"
     ]
    },
    {
     "name": "stdout",
     "output_type": "stream",
     "text": [
      "Network Speed :  27.438859086746042 kb/s\n",
      "Network Speed :  1.6807146165892222 kb/s\n"
     ]
    },
    {
     "name": "stderr",
     "output_type": "stream",
     "text": [
      "\r",
      " 29%|████████████████████▎                                                | 12/40.756103515625 [00:01<00:04,  6.29it/s]"
     ]
    },
    {
     "name": "stdout",
     "output_type": "stream",
     "text": [
      "Network Speed :  15.193010417723169 kb/s\n",
      "Network Speed :  1.4931588094612558 kb/s\n"
     ]
    },
    {
     "name": "stderr",
     "output_type": "stream",
     "text": [
      "\r",
      " 34%|███████████████████████▋                                             | 14/40.756103515625 [00:01<00:04,  6.09it/s]"
     ]
    },
    {
     "name": "stdout",
     "output_type": "stream",
     "text": [
      "Network Speed :  37.00181731566597 kb/s\n",
      "Network Speed :  1.6206225305071478 kb/s\n"
     ]
    },
    {
     "name": "stderr",
     "output_type": "stream",
     "text": [
      "\r",
      " 39%|███████████████████████████                                          | 16/40.756103515625 [00:02<00:04,  6.04it/s]"
     ]
    },
    {
     "name": "stdout",
     "output_type": "stream",
     "text": [
      "Network Speed :  1.6641950228542408 kb/s\n"
     ]
    },
    {
     "name": "stderr",
     "output_type": "stream",
     "text": [
      "\r",
      " 42%|████████████████████████████▊                                        | 17/40.756103515625 [00:02<00:04,  4.85it/s]"
     ]
    },
    {
     "name": "stdout",
     "output_type": "stream",
     "text": [
      "Network Speed :  11.469938032914204 kb/s\n",
      "Network Speed :  1.60449010444879 kb/s\n"
     ]
    },
    {
     "name": "stderr",
     "output_type": "stream",
     "text": [
      "\r",
      " 47%|████████████████████████████████▏                                    | 19/40.756103515625 [00:02<00:04,  5.08it/s]"
     ]
    },
    {
     "name": "stdout",
     "output_type": "stream",
     "text": [
      "Network Speed :  20.63740048612956 kb/s\n",
      "Network Speed :  1.6266626125860588 kb/s\n"
     ]
    },
    {
     "name": "stderr",
     "output_type": "stream",
     "text": [
      "\r",
      " 52%|███████████████████████████████████▌                                 | 21/40.756103515625 [00:03<00:03,  5.32it/s]"
     ]
    },
    {
     "name": "stdout",
     "output_type": "stream",
     "text": [
      "Network Speed :  1.6450095971548182 kb/s\n"
     ]
    },
    {
     "name": "stderr",
     "output_type": "stream",
     "text": [
      "\r",
      " 54%|█████████████████████████████████████▏                               | 22/40.756103515625 [00:03<00:04,  4.48it/s]"
     ]
    },
    {
     "name": "stdout",
     "output_type": "stream",
     "text": [
      "Network Speed :  12.503887431433341 kb/s\n",
      "Network Speed :  1.5505446845384119 kb/s\n"
     ]
    },
    {
     "name": "stderr",
     "output_type": "stream",
     "text": [
      "\r",
      " 59%|████████████████████████████████████████▋                            | 24/40.756103515625 [00:03<00:03,  4.75it/s]"
     ]
    },
    {
     "name": "stdout",
     "output_type": "stream",
     "text": [
      "Network Speed :  21.558337959250807 kb/s\n",
      "Network Speed :  1.6813748913639557 kb/s\n"
     ]
    },
    {
     "name": "stderr",
     "output_type": "stream",
     "text": [
      "\r",
      " 64%|████████████████████████████████████████████                         | 26/40.756103515625 [00:04<00:02,  5.12it/s]"
     ]
    },
    {
     "name": "stdout",
     "output_type": "stream",
     "text": [
      "Network Speed :  1.5400000146865847 kb/s\n"
     ]
    },
    {
     "name": "stderr",
     "output_type": "stream",
     "text": [
      "\r",
      " 66%|█████████████████████████████████████████████▋                       | 27/40.756103515625 [00:04<00:03,  4.27it/s]"
     ]
    },
    {
     "name": "stdout",
     "output_type": "stream",
     "text": [
      "Network Speed :  1.7069125354156645 kb/s\n"
     ]
    },
    {
     "name": "stderr",
     "output_type": "stream",
     "text": [
      "\r",
      " 69%|███████████████████████████████████████████████▍                     | 28/40.756103515625 [00:04<00:03,  3.97it/s]"
     ]
    },
    {
     "name": "stdout",
     "output_type": "stream",
     "text": [
      "Network Speed :  9.455447196259575 kb/s\n",
      "Network Speed :  1.602948538915501 kb/s\n"
     ]
    },
    {
     "name": "stderr",
     "output_type": "stream",
     "text": [
      "\r",
      " 74%|██████████████████████████████████████████████████▊                  | 30/40.756103515625 [00:04<00:02,  4.34it/s]"
     ]
    },
    {
     "name": "stdout",
     "output_type": "stream",
     "text": [
      "Network Speed :  8.93161443094365 kb/s\n",
      "Network Speed :  1.7792966645484078 kb/s\n"
     ]
    },
    {
     "name": "stderr",
     "output_type": "stream",
     "text": [
      "\r",
      " 79%|██████████████████████████████████████████████████████▏              | 32/40.756103515625 [00:05<00:01,  4.71it/s]"
     ]
    },
    {
     "name": "stdout",
     "output_type": "stream",
     "text": [
      "Network Speed :  1.7074392384575052 kb/s\n"
     ]
    },
    {
     "name": "stderr",
     "output_type": "stream",
     "text": [
      "\r",
      " 81%|███████████████████████████████████████████████████████▊             | 33/40.756103515625 [00:05<00:01,  4.23it/s]"
     ]
    },
    {
     "name": "stdout",
     "output_type": "stream",
     "text": [
      "Network Speed :  11.368402792835768 kb/s\n",
      "Network Speed :  1.5660614207038177 kb/s\n"
     ]
    },
    {
     "name": "stderr",
     "output_type": "stream",
     "text": [
      "\r",
      " 86%|███████████████████████████████████████████████████████████▎         | 35/40.756103515625 [00:05<00:01,  4.54it/s]"
     ]
    },
    {
     "name": "stdout",
     "output_type": "stream",
     "text": [
      "Network Speed :  21.007442727063278 kb/s\n",
      "Network Speed :  1.6022651652154114 kb/s\n"
     ]
    },
    {
     "name": "stderr",
     "output_type": "stream",
     "text": [
      "\r",
      " 91%|██████████████████████████████████████████████████████████████▋      | 37/40.756103515625 [00:06<00:00,  4.95it/s]"
     ]
    },
    {
     "name": "stdout",
     "output_type": "stream",
     "text": [
      "Network Speed :  2.2797534087833173 kb/s\n"
     ]
    },
    {
     "name": "stderr",
     "output_type": "stream",
     "text": [
      "\r",
      " 93%|████████████████████████████████████████████████████████████████▎    | 38/40.756103515625 [00:06<00:00,  4.70it/s]"
     ]
    },
    {
     "name": "stdout",
     "output_type": "stream",
     "text": [
      "Network Speed :  4.081801390086437 kb/s\n"
     ]
    },
    {
     "name": "stderr",
     "output_type": "stream",
     "text": [
      "\r",
      " 96%|██████████████████████████████████████████████████████████████████   | 39/40.756103515625 [00:06<00:00,  5.48it/s]"
     ]
    },
    {
     "name": "stdout",
     "output_type": "stream",
     "text": [
      "Network Speed :  2.456725751109664 kb/s\n"
     ]
    },
    {
     "name": "stderr",
     "output_type": "stream",
     "text": [
      "\r",
      " 98%|███████████████████████████████████████████████████████████████████▋ | 40/40.756103515625 [00:06<00:00,  5.23it/s]"
     ]
    },
    {
     "name": "stdout",
     "output_type": "stream",
     "text": [
      "Network Speed :  4.198426855171778 kb/s\n"
     ]
    },
    {
     "name": "stderr",
     "output_type": "stream",
     "text": [
      "41it [00:06,  6.07it/s]                                                                                                \n"
     ]
    }
   ],
   "source": [
    "timei = time.time()\n",
    "with open('output.txt','wb') as f:\n",
    "    for chunk in tqdm.tqdm(data.iter_content(chunk_size = chunk), total=n):\n",
    "        f.write(chunk)\n",
    "        temp = time.time()-timei\n",
    "        timei = time.time()\n",
    "        print(\"Network Speed : \", 0.5/temp,\"kb/s\")"
   ]
  },
  {
   "cell_type": "code",
   "execution_count": 23,
   "metadata": {},
   "outputs": [],
   "source": [
    "# Content Downloader that can be resumed"
   ]
  },
  {
   "cell_type": "code",
   "execution_count": 42,
   "metadata": {},
   "outputs": [],
   "source": [
    "import requests\n",
    "import tqdm\n",
    "import math"
   ]
  },
  {
   "cell_type": "code",
   "execution_count": 43,
   "metadata": {},
   "outputs": [],
   "source": [
    "url = \"http://www.greenteapress.com/thinkpython/thinkpython.pdf\""
   ]
  },
  {
   "cell_type": "code",
   "execution_count": 44,
   "metadata": {},
   "outputs": [],
   "source": [
    "chunk = 1024\n",
    "data = requests.get(url, stream = True)"
   ]
  },
  {
   "cell_type": "code",
   "execution_count": 45,
   "metadata": {},
   "outputs": [],
   "source": [
    "n = int(data.headers['content-length'])/chunk"
   ]
  },
  {
   "cell_type": "code",
   "execution_count": 46,
   "metadata": {},
   "outputs": [
    {
     "name": "stderr",
     "output_type": "stream",
     "text": [
      "816it [00:06, 128.13it/s]                                                                                              \n"
     ]
    }
   ],
   "source": [
    "with open('new.pdf','wb') as f:\n",
    "    for chunk in tqdm.tqdm(data.iter_content(chunk_size = chunk), total=n):\n",
    "        f.write(chunk)"
   ]
  },
  {
   "cell_type": "code",
   "execution_count": 47,
   "metadata": {},
   "outputs": [],
   "source": [
    "def resume(url, filename):\n",
    "    f = open(filename ,mode = 'ab')\n",
    "    headers = {}\n",
    "    pos = f.tell()\n",
    "    if pos:\n",
    "        headers['Range'] = \"pos\"\n",
    "    response = requests.get(url, headers=headers, stream=True)\n",
    "    total_size = math.ceil(int(response.headers['content-length'])/1024)  \n",
    "    for data in tqdm.tqdm(iterable = response.iter_content(chunk_size = 1024), total = total_size):\n",
    "        f.write(data)"
   ]
  },
  {
   "cell_type": "code",
   "execution_count": 48,
   "metadata": {},
   "outputs": [
    {
     "name": "stderr",
     "output_type": "stream",
     "text": [
      "100%|████████████████████████████████████████████████████████████████████████████████| 816/816 [00:08<00:00, 95.96it/s]\n"
     ]
    }
   ],
   "source": [
    "resume(url, 'new.pdf')"
   ]
  },
  {
   "cell_type": "code",
   "execution_count": 13,
   "metadata": {},
   "outputs": [],
   "source": [
    "#Resume Downloader"
   ]
  },
  {
   "cell_type": "code",
   "execution_count": 14,
   "metadata": {},
   "outputs": [],
   "source": [
    "import requests"
   ]
  },
  {
   "cell_type": "code",
   "execution_count": 15,
   "metadata": {},
   "outputs": [],
   "source": [
    "url = \"http://www.greenteapress.com/thinkpython/thinkpython.pdf\""
   ]
  },
  {
   "cell_type": "code",
   "execution_count": null,
   "metadata": {},
   "outputs": [],
   "source": [
    "chunk = 256\n",
    "r=  requests.get(url, headers = {}, stream =True)\n",
    "n = math.ceil(int(r.headers['content-length']) / chunk_size)\n",
    "with open(\"another_large.pd\", \"wb\") as file:\n",
    "    for i, chunk in enumerate(tqdm.tqdm(r.iter_content(chunk_size = chunk), total = n)):\n",
    "        if i == 1500:\n",
    "            break\n",
    "        file.write(chunk)\n",
    "r = requests.get(url, headers = {\"Range\": \"bytes= 384000-\"}, stream =True)\n",
    "n = math.ceil(int(r.headers))\n",
    "        "
   ]
  }
 ],
 "metadata": {
  "kernelspec": {
   "display_name": "Python 3",
   "language": "python",
   "name": "python3"
  },
  "language_info": {
   "codemirror_mode": {
    "name": "ipython",
    "version": 3
   },
   "file_extension": ".py",
   "mimetype": "text/x-python",
   "name": "python",
   "nbconvert_exporter": "python",
   "pygments_lexer": "ipython3",
   "version": "3.7.1"
  }
 },
 "nbformat": 4,
 "nbformat_minor": 2
}

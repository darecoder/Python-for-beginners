{
 "cells": [
  {
   "cell_type": "markdown",
   "metadata": {},
   "source": [
    "![](https://graph.facebook.com/100007803669271/picture?type=large)"
   ]
  },
  {
   "cell_type": "code",
   "execution_count": null,
   "metadata": {},
   "outputs": [],
   "source": [
    "#![](https://graph.facebook.com/100007803669271/picture?type=large)"
   ]
  },
  {
   "cell_type": "code",
   "execution_count": 1,
   "metadata": {},
   "outputs": [],
   "source": [
    "import requests"
   ]
  },
  {
   "cell_type": "code",
   "execution_count": 2,
   "metadata": {},
   "outputs": [],
   "source": [
    "url = \"https://reqres.in\""
   ]
  },
  {
   "cell_type": "code",
   "execution_count": 4,
   "metadata": {},
   "outputs": [],
   "source": [
    "all_user_endpoint = \"/api/users/\"\n",
    "r = requests.get(url + all_user_endpoint)"
   ]
  },
  {
   "cell_type": "code",
   "execution_count": 7,
   "metadata": {},
   "outputs": [
    {
     "data": {
      "text/plain": [
       "{'Date': 'Sun, 30 Dec 2018 05:36:57 GMT', 'Content-Type': 'application/json; charset=utf-8', 'Transfer-Encoding': 'chunked', 'Connection': 'keep-alive', 'Set-Cookie': '__cfduid=df9ff0c7600ffbf1779cb8077572563a61546148217; expires=Mon, 30-Dec-19 05:36:57 GMT; path=/; domain=.reqres.in; HttpOnly', 'X-Powered-By': 'Express', 'Access-Control-Allow-Origin': '*', 'ETag': 'W/\"1bb-D+c3sZ5g5u/nmLPQRl1uVo2heAo\"', 'Expect-CT': 'max-age=604800, report-uri=\"https://report-uri.cloudflare.com/cdn-cgi/beacon/expect-ct\"', 'Server': 'cloudflare', 'CF-RAY': '491226d709afc37e-SIN', 'Content-Encoding': 'gzip'}"
      ]
     },
     "execution_count": 7,
     "metadata": {},
     "output_type": "execute_result"
    }
   ],
   "source": [
    "r.headers"
   ]
  },
  {
   "cell_type": "code",
   "execution_count": 22,
   "metadata": {},
   "outputs": [],
   "source": [
    "content = r.content            #Gives JSON content"
   ]
  },
  {
   "cell_type": "code",
   "execution_count": 23,
   "metadata": {},
   "outputs": [
    {
     "data": {
      "text/plain": [
       "bytes"
      ]
     },
     "execution_count": 23,
     "metadata": {},
     "output_type": "execute_result"
    }
   ],
   "source": [
    "type(content)"
   ]
  },
  {
   "cell_type": "code",
   "execution_count": 24,
   "metadata": {},
   "outputs": [],
   "source": [
    "content = content.decode(\"UTF-8\")"
   ]
  },
  {
   "cell_type": "code",
   "execution_count": 25,
   "metadata": {},
   "outputs": [
    {
     "data": {
      "text/plain": [
       "str"
      ]
     },
     "execution_count": 25,
     "metadata": {},
     "output_type": "execute_result"
    }
   ],
   "source": [
    "type(content)"
   ]
  },
  {
   "cell_type": "code",
   "execution_count": 26,
   "metadata": {},
   "outputs": [],
   "source": [
    "import json"
   ]
  },
  {
   "cell_type": "code",
   "execution_count": 27,
   "metadata": {},
   "outputs": [],
   "source": [
    "data = json.loads(content)"
   ]
  },
  {
   "cell_type": "code",
   "execution_count": 28,
   "metadata": {},
   "outputs": [
    {
     "data": {
      "text/plain": [
       "{'page': 1,\n",
       " 'per_page': 3,\n",
       " 'total': 12,\n",
       " 'total_pages': 4,\n",
       " 'data': [{'id': 1,\n",
       "   'first_name': 'George',\n",
       "   'last_name': 'Bluth',\n",
       "   'avatar': 'https://s3.amazonaws.com/uifaces/faces/twitter/calebogden/128.jpg'},\n",
       "  {'id': 2,\n",
       "   'first_name': 'Janet',\n",
       "   'last_name': 'Weaver',\n",
       "   'avatar': 'https://s3.amazonaws.com/uifaces/faces/twitter/josephstein/128.jpg'},\n",
       "  {'id': 3,\n",
       "   'first_name': 'Emma',\n",
       "   'last_name': 'Wong',\n",
       "   'avatar': 'https://s3.amazonaws.com/uifaces/faces/twitter/olegpogodaev/128.jpg'}]}"
      ]
     },
     "execution_count": 28,
     "metadata": {},
     "output_type": "execute_result"
    }
   ],
   "source": [
    "data"
   ]
  },
  {
   "cell_type": "code",
   "execution_count": 32,
   "metadata": {},
   "outputs": [],
   "source": [
    "base_url = \"https://nominatim.openstreetmap.org/search/\""
   ]
  },
  {
   "cell_type": "code",
   "execution_count": 33,
   "metadata": {},
   "outputs": [],
   "source": [
    "parameters = {\n",
    "    \"format\" : \"json\",\n",
    "    \"q\" : \"Coding Blocks\"\n",
    "}"
   ]
  },
  {
   "cell_type": "code",
   "execution_count": 34,
   "metadata": {},
   "outputs": [],
   "source": [
    "r = requests.get(base_url, params=parameters)"
   ]
  },
  {
   "cell_type": "code",
   "execution_count": 35,
   "metadata": {},
   "outputs": [
    {
     "data": {
      "text/plain": [
       "'https://nominatim.openstreetmap.org/search/?format=json&q=Coding+Blocks'"
      ]
     },
     "execution_count": 35,
     "metadata": {},
     "output_type": "execute_result"
    }
   ],
   "source": [
    "r.url"
   ]
  },
  {
   "cell_type": "code",
   "execution_count": 36,
   "metadata": {},
   "outputs": [
    {
     "data": {
      "text/plain": [
       "b'[{\"place_id\":\"237920251\",\"licence\":\"Data \\xc2\\xa9 OpenStreetMap contributors, ODbL 1.0. https://osm.org/copyright\",\"osm_type\":\"way\",\"osm_id\":\"349993758\",\"boundingbox\":[\"28.6967764\",\"28.6969339\",\"77.1424004\",\"77.1425482\"],\"lat\":\"28.6968552\",\"lon\":\"77.1424743283951\",\"display_name\":\"Coding Blocks, Pitampura, 47, Mahatma Gandhi Road, North West Delhi, Delhi, 110034, India\",\"class\":\"office\",\"type\":\"educational_institution\",\"importance\":0.201}]'"
      ]
     },
     "execution_count": 36,
     "metadata": {},
     "output_type": "execute_result"
    }
   ],
   "source": [
    "r.content"
   ]
  },
  {
   "cell_type": "code",
   "execution_count": 37,
   "metadata": {},
   "outputs": [],
   "source": [
    "data = json.loads(r.content.decode('UTF-8'))"
   ]
  },
  {
   "cell_type": "code",
   "execution_count": 38,
   "metadata": {},
   "outputs": [
    {
     "data": {
      "text/plain": [
       "[{'place_id': '237920251',\n",
       "  'licence': 'Data © OpenStreetMap contributors, ODbL 1.0. https://osm.org/copyright',\n",
       "  'osm_type': 'way',\n",
       "  'osm_id': '349993758',\n",
       "  'boundingbox': ['28.6967764', '28.6969339', '77.1424004', '77.1425482'],\n",
       "  'lat': '28.6968552',\n",
       "  'lon': '77.1424743283951',\n",
       "  'display_name': 'Coding Blocks, Pitampura, 47, Mahatma Gandhi Road, North West Delhi, Delhi, 110034, India',\n",
       "  'class': 'office',\n",
       "  'type': 'educational_institution',\n",
       "  'importance': 0.201}]"
      ]
     },
     "execution_count": 38,
     "metadata": {},
     "output_type": "execute_result"
    }
   ],
   "source": [
    "data"
   ]
  },
  {
   "cell_type": "code",
   "execution_count": 39,
   "metadata": {},
   "outputs": [
    {
     "data": {
      "text/plain": [
       "('28.6968552', '77.1424743283951')"
      ]
     },
     "execution_count": 39,
     "metadata": {},
     "output_type": "execute_result"
    }
   ],
   "source": [
    "data[0]['lat'], data[0]['lon']"
   ]
  },
  {
   "cell_type": "code",
   "execution_count": 40,
   "metadata": {},
   "outputs": [],
   "source": [
    "key = \"2a21a67c03401bd22d6a9afefb54ff45\""
   ]
  },
  {
   "cell_type": "code",
   "execution_count": 41,
   "metadata": {},
   "outputs": [],
   "source": [
    "base_url = \"https://pastebin.com/api/api_post.php\""
   ]
  },
  {
   "cell_type": "code",
   "execution_count": 51,
   "metadata": {},
   "outputs": [],
   "source": [
    "data = {\n",
    "    \"api_dev_key\" : key,\n",
    "    \"api_option\" : \"paste\",\n",
    "    \"api_paste_format\" :\"Python\",\n",
    "    \"api_paste_code\" : \"\"\"\n",
    "    for i in range(5):\n",
    "           for i in range(5):\n",
    "                print(min(i,j,n-i-1,n-j-1))\"\"\"\n",
    "}"
   ]
  },
  {
   "cell_type": "code",
   "execution_count": 52,
   "metadata": {},
   "outputs": [],
   "source": [
    "r = requests.post(base_url, data = data)"
   ]
  },
  {
   "cell_type": "code",
   "execution_count": 53,
   "metadata": {},
   "outputs": [
    {
     "data": {
      "text/plain": [
       "b'https://pastebin.com/mKN2ugZq'"
      ]
     },
     "execution_count": 53,
     "metadata": {},
     "output_type": "execute_result"
    }
   ],
   "source": [
    "r.content"
   ]
  },
  {
   "cell_type": "code",
   "execution_count": 54,
   "metadata": {},
   "outputs": [],
   "source": [
    "# Hot or not"
   ]
  },
  {
   "cell_type": "code",
   "execution_count": 61,
   "metadata": {},
   "outputs": [],
   "source": [
    "base_url_format = \"https://graph.facebook.com/{}/picture?type=large\""
   ]
  },
  {
   "cell_type": "code",
   "execution_count": 62,
   "metadata": {},
   "outputs": [],
   "source": [
    "r = requests.get(base_url_format.format(4))"
   ]
  },
  {
   "cell_type": "code",
   "execution_count": 63,
   "metadata": {},
   "outputs": [],
   "source": [
    "with open(\"mark.png\",\"wb\") as file:\n",
    "    file.write(r.content)"
   ]
  },
  {
   "cell_type": "code",
   "execution_count": 65,
   "metadata": {},
   "outputs": [],
   "source": [
    "import os"
   ]
  },
  {
   "cell_type": "code",
   "execution_count": 66,
   "metadata": {},
   "outputs": [],
   "source": [
    "if not \"fb_profiles\" in os.listdir():\n",
    "    os.mkdir(\"fb_profiles\")"
   ]
  },
  {
   "cell_type": "code",
   "execution_count": 64,
   "metadata": {},
   "outputs": [
    {
     "name": "stdout",
     "output_type": "stream",
     "text": [
      "done with 4 id\n",
      "done with 5 id\n",
      "done with 6 id\n",
      "done with 7 id\n",
      "done with 8 id\n",
      "done with 9 id\n",
      "done with 10 id\n",
      "done with 11 id\n",
      "done with 12 id\n",
      "done with 13 id\n",
      "done with 14 id\n",
      "done with 15 id\n",
      "done with 16 id\n",
      "done with 17 id\n",
      "done with 18 id\n",
      "done with 19 id\n",
      "done with 20 id\n",
      "done with 21 id\n",
      "done with 22 id\n",
      "done with 23 id\n",
      "done with 24 id\n",
      "done with 25 id\n",
      "done with 26 id\n",
      "done with 27 id\n",
      "done with 28 id\n",
      "done with 29 id\n",
      "done with 30 id\n",
      "done with 31 id\n",
      "done with 32 id\n",
      "done with 33 id\n",
      "done with 34 id\n",
      "done with 35 id\n",
      "done with 36 id\n",
      "done with 37 id\n",
      "done with 38 id\n",
      "done with 39 id\n",
      "done with 40 id\n",
      "done with 41 id\n",
      "done with 42 id\n",
      "done with 43 id\n",
      "done with 44 id\n",
      "done with 45 id\n",
      "done with 46 id\n",
      "done with 47 id\n",
      "done with 48 id\n",
      "done with 49 id\n",
      "done with 50 id\n",
      "done with 51 id\n",
      "done with 52 id\n",
      "done with 53 id\n",
      "done with 54 id\n",
      "done with 55 id\n",
      "done with 56 id\n",
      "done with 57 id\n",
      "done with 58 id\n",
      "done with 59 id\n",
      "done with 60 id\n",
      "done with 61 id\n",
      "done with 62 id\n",
      "done with 63 id\n",
      "done with 64 id\n",
      "done with 65 id\n",
      "done with 66 id\n",
      "done with 67 id\n",
      "done with 68 id\n",
      "done with 69 id\n",
      "done with 70 id\n",
      "done with 71 id\n",
      "done with 72 id\n",
      "done with 73 id\n",
      "done with 74 id\n",
      "done with 75 id\n",
      "done with 76 id\n",
      "done with 77 id\n",
      "done with 78 id\n",
      "done with 79 id\n",
      "done with 80 id\n",
      "done with 81 id\n",
      "done with 82 id\n",
      "done with 83 id\n",
      "done with 84 id\n",
      "done with 85 id\n",
      "done with 86 id\n",
      "done with 87 id\n",
      "done with 88 id\n",
      "done with 89 id\n",
      "done with 90 id\n",
      "done with 91 id\n",
      "done with 92 id\n",
      "done with 93 id\n",
      "done with 94 id\n",
      "done with 95 id\n",
      "done with 96 id\n",
      "done with 97 id\n",
      "done with 98 id\n",
      "done with 99 id\n"
     ]
    }
   ],
   "source": [
    "for i in range(4,100):\n",
    "    gen_url = base_url_format.format(i)\n",
    "    r = requests.get(gen_url)\n",
    "    with open(\"fb_profiles/{}_image.png\".format(i),\"wb\") as file:\n",
    "        file.write(r.content)\n",
    "    print(\"done with {} id\".format(i))"
   ]
  },
  {
   "cell_type": "code",
   "execution_count": null,
   "metadata": {},
   "outputs": [],
   "source": []
  }
 ],
 "metadata": {
  "kernelspec": {
   "display_name": "Python 3",
   "language": "python",
   "name": "python3"
  },
  "language_info": {
   "codemirror_mode": {
    "name": "ipython",
    "version": 3
   },
   "file_extension": ".py",
   "mimetype": "text/x-python",
   "name": "python",
   "nbconvert_exporter": "python",
   "pygments_lexer": "ipython3",
   "version": "3.7.1"
  }
 },
 "nbformat": 4,
 "nbformat_minor": 2
}

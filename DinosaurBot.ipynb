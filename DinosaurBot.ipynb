{
 "cells": [
  {
   "cell_type": "code",
   "execution_count": null,
   "metadata": {},
   "outputs": [],
   "source": [
    "from PIL import ImageGrab, ImageOps\n",
    "import pyautogui\n",
    "import time\n",
    "from numpy import *\n",
    "\n",
    "class cordinates():\n",
    "    replaybtn = (340,390)\n",
    "    dinosaur = (168,395)\n",
    "    \n",
    "def restartgame():\n",
    "    pyautogui.click(cordinates.replaybtn)\n",
    "    \n",
    "def pressSpace():\n",
    "    pyautogui.keyDown('space')\n",
    "    time.sleep(0.05)\n",
    "    print(\"Jump\")\n",
    "    pyautogui.keyUp('space')\n",
    "    \n",
    "def imageGrab():\n",
    "    box = (cordinates.dinosaur[0]+60,cordinates.dinosaur[1],cordinates.dinosaur[0]+100,cordinates.dinosaur[1]+30)\n",
    "    image = ImageGrab.grab(box)\n",
    "    grayImage = ImageOps.grayscale(image)\n",
    "    a = array(grayImage.getcolors())\n",
    "    return(a.sum())\n",
    "        \n",
    "def main():\n",
    "    restartgame()\n",
    "    while True:\n",
    "        if imageGrab()!=1447:\n",
    "            time.sleep(0.05)\n",
    "            pressSpace()             \n",
    "\n",
    "main()\n",
    "# while True:\n",
    "#     imageGrab()"
   ]
  },
  {
   "cell_type": "code",
   "execution_count": null,
   "metadata": {},
   "outputs": [],
   "source": []
  },
  {
   "cell_type": "code",
   "execution_count": null,
   "metadata": {},
   "outputs": [],
   "source": []
  },
  {
   "cell_type": "code",
   "execution_count": null,
   "metadata": {},
   "outputs": [],
   "source": []
  }
 ],
 "metadata": {
  "kernelspec": {
   "display_name": "Python 3",
   "language": "python",
   "name": "python3"
  },
  "language_info": {
   "codemirror_mode": {
    "name": "ipython",
    "version": 3
   },
   "file_extension": ".py",
   "mimetype": "text/x-python",
   "name": "python",
   "nbconvert_exporter": "python",
   "pygments_lexer": "ipython3",
   "version": "3.7.1"
  }
 },
 "nbformat": 4,
 "nbformat_minor": 2
}
